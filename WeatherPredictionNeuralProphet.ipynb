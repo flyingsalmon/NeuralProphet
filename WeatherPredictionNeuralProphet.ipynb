{
 "cells": [
  {
   "cell_type": "markdown",
   "id": "490410da",
   "metadata": {},
   "source": [
    " A Neural Network based Time-Series model, inspired by Facebook Prophet and AR-Net, built on PyTorch\n",
    "    Documentation: https://neuralprophet.com/html/index.html\n",
    "            "
   ]
  },
  {
   "cell_type": "code",
   "execution_count": 100,
   "id": "a01eafe5",
   "metadata": {},
   "outputs": [
    {
     "name": "stdout",
     "output_type": "stream",
     "text": [
      "Requirement already satisfied: neuralprophet in c:\\programdata\\anaconda3\\lib\\site-packages (0.3.2)\n",
      "Requirement already satisfied: LunarCalendar>=0.0.9 in c:\\programdata\\anaconda3\\lib\\site-packages (from neuralprophet) (0.0.9)\n",
      "Requirement already satisfied: torch>=1.4.0 in c:\\programdata\\anaconda3\\lib\\site-packages (from neuralprophet) (1.12.0)\n",
      "Requirement already satisfied: matplotlib>=2.0.0 in c:\\programdata\\anaconda3\\lib\\site-packages (from neuralprophet) (3.5.1)\n",
      "Requirement already satisfied: holidays>=0.11.3.1 in c:\\programdata\\anaconda3\\lib\\site-packages (from neuralprophet) (0.14.2)\n",
      "Requirement already satisfied: numpy>=1.15.4 in c:\\programdata\\anaconda3\\lib\\site-packages (from neuralprophet) (1.21.5)\n",
      "Requirement already satisfied: python-dateutil>=2.8.0 in c:\\programdata\\anaconda3\\lib\\site-packages (from neuralprophet) (2.8.2)\n",
      "Requirement already satisfied: torch-lr-finder>=0.2.1 in c:\\programdata\\anaconda3\\lib\\site-packages (from neuralprophet) (0.2.1)\n",
      "Requirement already satisfied: pandas>=1.0.4 in c:\\programdata\\anaconda3\\lib\\site-packages (from neuralprophet) (1.4.2)\n",
      "Requirement already satisfied: tqdm>=4.50.2 in c:\\programdata\\anaconda3\\lib\\site-packages (from neuralprophet) (4.64.0)\n",
      "Requirement already satisfied: ipywidgets>=7.5.1 in c:\\programdata\\anaconda3\\lib\\site-packages (from neuralprophet) (7.6.5)\n",
      "Requirement already satisfied: convertdate>=2.1.2 in c:\\programdata\\anaconda3\\lib\\site-packages (from neuralprophet) (2.4.0)\n",
      "Requirement already satisfied: dataclasses>=0.6 in c:\\programdata\\anaconda3\\lib\\site-packages (from neuralprophet) (0.6)\n",
      "Requirement already satisfied: pymeeus<=1,>=0.3.13 in c:\\programdata\\anaconda3\\lib\\site-packages (from convertdate>=2.1.2->neuralprophet) (0.5.11)\n",
      "Requirement already satisfied: hijri-converter in c:\\programdata\\anaconda3\\lib\\site-packages (from holidays>=0.11.3.1->neuralprophet) (2.2.4)\n",
      "Requirement already satisfied: korean-lunar-calendar in c:\\programdata\\anaconda3\\lib\\site-packages (from holidays>=0.11.3.1->neuralprophet) (0.2.1)\n",
      "Requirement already satisfied: nbformat>=4.2.0 in c:\\programdata\\anaconda3\\lib\\site-packages (from ipywidgets>=7.5.1->neuralprophet) (5.3.0)\n",
      "Requirement already satisfied: widgetsnbextension~=3.5.0 in c:\\programdata\\anaconda3\\lib\\site-packages (from ipywidgets>=7.5.1->neuralprophet) (3.5.2)\n",
      "Requirement already satisfied: ipython-genutils~=0.2.0 in c:\\programdata\\anaconda3\\lib\\site-packages (from ipywidgets>=7.5.1->neuralprophet) (0.2.0)\n",
      "Requirement already satisfied: traitlets>=4.3.1 in c:\\programdata\\anaconda3\\lib\\site-packages (from ipywidgets>=7.5.1->neuralprophet) (5.1.1)\n",
      "Requirement already satisfied: ipykernel>=4.5.1 in c:\\programdata\\anaconda3\\lib\\site-packages (from ipywidgets>=7.5.1->neuralprophet) (6.9.1)\n",
      "Requirement already satisfied: ipython>=4.0.0 in c:\\programdata\\anaconda3\\lib\\site-packages (from ipywidgets>=7.5.1->neuralprophet) (8.2.0)\n",
      "Requirement already satisfied: jupyterlab-widgets>=1.0.0 in c:\\programdata\\anaconda3\\lib\\site-packages (from ipywidgets>=7.5.1->neuralprophet) (1.0.0)\n",
      "Requirement already satisfied: jupyter-client<8.0 in c:\\programdata\\anaconda3\\lib\\site-packages (from ipykernel>=4.5.1->ipywidgets>=7.5.1->neuralprophet) (6.1.12)\n",
      "Requirement already satisfied: tornado<7.0,>=4.2 in c:\\programdata\\anaconda3\\lib\\site-packages (from ipykernel>=4.5.1->ipywidgets>=7.5.1->neuralprophet) (6.1)\n",
      "Requirement already satisfied: matplotlib-inline<0.2.0,>=0.1.0 in c:\\programdata\\anaconda3\\lib\\site-packages (from ipykernel>=4.5.1->ipywidgets>=7.5.1->neuralprophet) (0.1.2)\n",
      "Requirement already satisfied: nest-asyncio in c:\\programdata\\anaconda3\\lib\\site-packages (from ipykernel>=4.5.1->ipywidgets>=7.5.1->neuralprophet) (1.5.5)\n",
      "Requirement already satisfied: debugpy<2.0,>=1.0.0 in c:\\programdata\\anaconda3\\lib\\site-packages (from ipykernel>=4.5.1->ipywidgets>=7.5.1->neuralprophet) (1.5.1)\n",
      "Requirement already satisfied: setuptools>=18.5 in c:\\programdata\\anaconda3\\lib\\site-packages (from ipython>=4.0.0->ipywidgets>=7.5.1->neuralprophet) (61.2.0)\n",
      "Requirement already satisfied: stack-data in c:\\programdata\\anaconda3\\lib\\site-packages (from ipython>=4.0.0->ipywidgets>=7.5.1->neuralprophet) (0.2.0)\n",
      "Requirement already satisfied: pickleshare in c:\\programdata\\anaconda3\\lib\\site-packages (from ipython>=4.0.0->ipywidgets>=7.5.1->neuralprophet) (0.7.5)\n",
      "Requirement already satisfied: jedi>=0.16 in c:\\programdata\\anaconda3\\lib\\site-packages (from ipython>=4.0.0->ipywidgets>=7.5.1->neuralprophet) (0.18.1)\n",
      "Requirement already satisfied: colorama in c:\\programdata\\anaconda3\\lib\\site-packages (from ipython>=4.0.0->ipywidgets>=7.5.1->neuralprophet) (0.4.4)\n",
      "Requirement already satisfied: prompt-toolkit!=3.0.0,!=3.0.1,<3.1.0,>=2.0.0 in c:\\programdata\\anaconda3\\lib\\site-packages (from ipython>=4.0.0->ipywidgets>=7.5.1->neuralprophet) (3.0.20)\n",
      "Requirement already satisfied: backcall in c:\\programdata\\anaconda3\\lib\\site-packages (from ipython>=4.0.0->ipywidgets>=7.5.1->neuralprophet) (0.2.0)\n",
      "Requirement already satisfied: decorator in c:\\programdata\\anaconda3\\lib\\site-packages (from ipython>=4.0.0->ipywidgets>=7.5.1->neuralprophet) (5.1.1)\n",
      "Requirement already satisfied: pygments>=2.4.0 in c:\\programdata\\anaconda3\\lib\\site-packages (from ipython>=4.0.0->ipywidgets>=7.5.1->neuralprophet) (2.11.2)\n",
      "Requirement already satisfied: parso<0.9.0,>=0.8.0 in c:\\programdata\\anaconda3\\lib\\site-packages (from jedi>=0.16->ipython>=4.0.0->ipywidgets>=7.5.1->neuralprophet) (0.8.3)\n",
      "Requirement already satisfied: pyzmq>=13 in c:\\programdata\\anaconda3\\lib\\site-packages (from jupyter-client<8.0->ipykernel>=4.5.1->ipywidgets>=7.5.1->neuralprophet) (22.3.0)\n",
      "Requirement already satisfied: jupyter-core>=4.6.0 in c:\\programdata\\anaconda3\\lib\\site-packages (from jupyter-client<8.0->ipykernel>=4.5.1->ipywidgets>=7.5.1->neuralprophet) (4.9.2)\n",
      "Requirement already satisfied: pywin32>=1.0 in c:\\programdata\\anaconda3\\lib\\site-packages (from jupyter-core>=4.6.0->jupyter-client<8.0->ipykernel>=4.5.1->ipywidgets>=7.5.1->neuralprophet) (302)\n",
      "Requirement already satisfied: ephem>=3.7.5.3 in c:\\programdata\\anaconda3\\lib\\site-packages (from LunarCalendar>=0.0.9->neuralprophet) (4.1.3)\n",
      "Requirement already satisfied: pytz in c:\\programdata\\anaconda3\\lib\\site-packages (from LunarCalendar>=0.0.9->neuralprophet) (2021.3)\n",
      "Requirement already satisfied: kiwisolver>=1.0.1 in c:\\programdata\\anaconda3\\lib\\site-packages (from matplotlib>=2.0.0->neuralprophet) (1.3.2)\n",
      "Requirement already satisfied: cycler>=0.10 in c:\\programdata\\anaconda3\\lib\\site-packages (from matplotlib>=2.0.0->neuralprophet) (0.11.0)\n",
      "Requirement already satisfied: pillow>=6.2.0 in c:\\programdata\\anaconda3\\lib\\site-packages (from matplotlib>=2.0.0->neuralprophet) (9.0.1)\n",
      "Requirement already satisfied: packaging>=20.0 in c:\\programdata\\anaconda3\\lib\\site-packages (from matplotlib>=2.0.0->neuralprophet) (21.3)\n",
      "Requirement already satisfied: fonttools>=4.22.0 in c:\\programdata\\anaconda3\\lib\\site-packages (from matplotlib>=2.0.0->neuralprophet) (4.25.0)\n",
      "Requirement already satisfied: pyparsing>=2.2.1 in c:\\programdata\\anaconda3\\lib\\site-packages (from matplotlib>=2.0.0->neuralprophet) (3.0.4)\n",
      "Requirement already satisfied: jsonschema>=2.6 in c:\\programdata\\anaconda3\\lib\\site-packages (from nbformat>=4.2.0->ipywidgets>=7.5.1->neuralprophet) (4.4.0)\n",
      "Requirement already satisfied: fastjsonschema in c:\\programdata\\anaconda3\\lib\\site-packages (from nbformat>=4.2.0->ipywidgets>=7.5.1->neuralprophet) (2.15.1)\n",
      "Requirement already satisfied: pyrsistent!=0.17.0,!=0.17.1,!=0.17.2,>=0.14.0 in c:\\programdata\\anaconda3\\lib\\site-packages (from jsonschema>=2.6->nbformat>=4.2.0->ipywidgets>=7.5.1->neuralprophet) (0.18.0)\n",
      "Requirement already satisfied: attrs>=17.4.0 in c:\\programdata\\anaconda3\\lib\\site-packages (from jsonschema>=2.6->nbformat>=4.2.0->ipywidgets>=7.5.1->neuralprophet) (21.4.0)\n",
      "Requirement already satisfied: wcwidth in c:\\programdata\\anaconda3\\lib\\site-packages (from prompt-toolkit!=3.0.0,!=3.0.1,<3.1.0,>=2.0.0->ipython>=4.0.0->ipywidgets>=7.5.1->neuralprophet) (0.2.5)\n",
      "Requirement already satisfied: six>=1.5 in c:\\programdata\\anaconda3\\lib\\site-packages (from python-dateutil>=2.8.0->neuralprophet) (1.16.0)\n",
      "Requirement already satisfied: typing-extensions in c:\\programdata\\anaconda3\\lib\\site-packages (from torch>=1.4.0->neuralprophet) (4.1.1)\n",
      "Requirement already satisfied: notebook>=4.4.1 in c:\\programdata\\anaconda3\\lib\\site-packages (from widgetsnbextension~=3.5.0->ipywidgets>=7.5.1->neuralprophet) (6.4.8)\n",
      "Requirement already satisfied: nbconvert in c:\\programdata\\anaconda3\\lib\\site-packages (from notebook>=4.4.1->widgetsnbextension~=3.5.0->ipywidgets>=7.5.1->neuralprophet) (6.4.4)\n",
      "Requirement already satisfied: terminado>=0.8.3 in c:\\programdata\\anaconda3\\lib\\site-packages (from notebook>=4.4.1->widgetsnbextension~=3.5.0->ipywidgets>=7.5.1->neuralprophet) (0.13.1)\n",
      "Requirement already satisfied: argon2-cffi in c:\\programdata\\anaconda3\\lib\\site-packages (from notebook>=4.4.1->widgetsnbextension~=3.5.0->ipywidgets>=7.5.1->neuralprophet) (21.3.0)\n",
      "Requirement already satisfied: prometheus-client in c:\\programdata\\anaconda3\\lib\\site-packages (from notebook>=4.4.1->widgetsnbextension~=3.5.0->ipywidgets>=7.5.1->neuralprophet) (0.13.1)\n",
      "Requirement already satisfied: Send2Trash>=1.8.0 in c:\\programdata\\anaconda3\\lib\\site-packages (from notebook>=4.4.1->widgetsnbextension~=3.5.0->ipywidgets>=7.5.1->neuralprophet) (1.8.0)\n",
      "Requirement already satisfied: jinja2 in c:\\programdata\\anaconda3\\lib\\site-packages (from notebook>=4.4.1->widgetsnbextension~=3.5.0->ipywidgets>=7.5.1->neuralprophet) (2.11.3)\n",
      "Requirement already satisfied: pywinpty>=1.1.0 in c:\\programdata\\anaconda3\\lib\\site-packages (from terminado>=0.8.3->notebook>=4.4.1->widgetsnbextension~=3.5.0->ipywidgets>=7.5.1->neuralprophet) (2.0.2)\n",
      "Requirement already satisfied: argon2-cffi-bindings in c:\\programdata\\anaconda3\\lib\\site-packages (from argon2-cffi->notebook>=4.4.1->widgetsnbextension~=3.5.0->ipywidgets>=7.5.1->neuralprophet) (21.2.0)\n",
      "Requirement already satisfied: cffi>=1.0.1 in c:\\programdata\\anaconda3\\lib\\site-packages (from argon2-cffi-bindings->argon2-cffi->notebook>=4.4.1->widgetsnbextension~=3.5.0->ipywidgets>=7.5.1->neuralprophet) (1.15.0)\n",
      "Requirement already satisfied: pycparser in c:\\programdata\\anaconda3\\lib\\site-packages (from cffi>=1.0.1->argon2-cffi-bindings->argon2-cffi->notebook>=4.4.1->widgetsnbextension~=3.5.0->ipywidgets>=7.5.1->neuralprophet) (2.21)\n",
      "Requirement already satisfied: MarkupSafe>=0.23 in c:\\programdata\\anaconda3\\lib\\site-packages (from jinja2->notebook>=4.4.1->widgetsnbextension~=3.5.0->ipywidgets>=7.5.1->neuralprophet) (2.0.1)\n",
      "Requirement already satisfied: jupyterlab-pygments in c:\\programdata\\anaconda3\\lib\\site-packages (from nbconvert->notebook>=4.4.1->widgetsnbextension~=3.5.0->ipywidgets>=7.5.1->neuralprophet) (0.1.2)\n",
      "Requirement already satisfied: bleach in c:\\programdata\\anaconda3\\lib\\site-packages (from nbconvert->notebook>=4.4.1->widgetsnbextension~=3.5.0->ipywidgets>=7.5.1->neuralprophet) (4.1.0)\n",
      "Requirement already satisfied: nbclient<0.6.0,>=0.5.0 in c:\\programdata\\anaconda3\\lib\\site-packages (from nbconvert->notebook>=4.4.1->widgetsnbextension~=3.5.0->ipywidgets>=7.5.1->neuralprophet) (0.5.13)\n",
      "Requirement already satisfied: defusedxml in c:\\programdata\\anaconda3\\lib\\site-packages (from nbconvert->notebook>=4.4.1->widgetsnbextension~=3.5.0->ipywidgets>=7.5.1->neuralprophet) (0.7.1)\n",
      "Requirement already satisfied: beautifulsoup4 in c:\\programdata\\anaconda3\\lib\\site-packages (from nbconvert->notebook>=4.4.1->widgetsnbextension~=3.5.0->ipywidgets>=7.5.1->neuralprophet) (4.11.1)\n",
      "Requirement already satisfied: testpath in c:\\programdata\\anaconda3\\lib\\site-packages (from nbconvert->notebook>=4.4.1->widgetsnbextension~=3.5.0->ipywidgets>=7.5.1->neuralprophet) (0.5.0)\n",
      "Requirement already satisfied: pandocfilters>=1.4.1 in c:\\programdata\\anaconda3\\lib\\site-packages (from nbconvert->notebook>=4.4.1->widgetsnbextension~=3.5.0->ipywidgets>=7.5.1->neuralprophet) (1.5.0)\n",
      "Requirement already satisfied: mistune<2,>=0.8.1 in c:\\programdata\\anaconda3\\lib\\site-packages (from nbconvert->notebook>=4.4.1->widgetsnbextension~=3.5.0->ipywidgets>=7.5.1->neuralprophet) (0.8.4)\n",
      "Requirement already satisfied: entrypoints>=0.2.2 in c:\\programdata\\anaconda3\\lib\\site-packages (from nbconvert->notebook>=4.4.1->widgetsnbextension~=3.5.0->ipywidgets>=7.5.1->neuralprophet) (0.4)\n",
      "Requirement already satisfied: soupsieve>1.2 in c:\\programdata\\anaconda3\\lib\\site-packages (from beautifulsoup4->nbconvert->notebook>=4.4.1->widgetsnbextension~=3.5.0->ipywidgets>=7.5.1->neuralprophet) (2.3.1)\n",
      "Requirement already satisfied: webencodings in c:\\programdata\\anaconda3\\lib\\site-packages (from bleach->nbconvert->notebook>=4.4.1->widgetsnbextension~=3.5.0->ipywidgets>=7.5.1->neuralprophet) (0.5.1)\n",
      "Requirement already satisfied: executing in c:\\programdata\\anaconda3\\lib\\site-packages (from stack-data->ipython>=4.0.0->ipywidgets>=7.5.1->neuralprophet) (0.8.3)\n",
      "Requirement already satisfied: pure-eval in c:\\programdata\\anaconda3\\lib\\site-packages (from stack-data->ipython>=4.0.0->ipywidgets>=7.5.1->neuralprophet) (0.2.2)\n",
      "Requirement already satisfied: asttokens in c:\\programdata\\anaconda3\\lib\\site-packages (from stack-data->ipython>=4.0.0->ipywidgets>=7.5.1->neuralprophet) (2.0.5)\n"
     ]
    }
   ],
   "source": [
    "!pip install neuralprophet"
   ]
  },
  {
   "cell_type": "markdown",
   "id": "b53e09e6",
   "metadata": {},
   "source": [
    "NOTE: pickle is included in standard python lib by default from Pyhon 3.x"
   ]
  },
  {
   "cell_type": "code",
   "execution_count": 101,
   "id": "3a00d717",
   "metadata": {},
   "outputs": [],
   "source": [
    "import pandas as pd\n",
    "from neuralprophet import NeuralProphet\n",
    "from matplotlib import pyplot as plt\n",
    "import pickle # for saving to disk"
   ]
  },
  {
   "cell_type": "code",
   "execution_count": 102,
   "id": "51eac8e4",
   "metadata": {},
   "outputs": [],
   "source": [
    "DATASET = 'C:\\\\Users\\\\tanma\\\\Documents\\\\programming\\\\SampleDatasets\\\\seattleWeather_1948-2017.xlsx'"
   ]
  },
  {
   "cell_type": "code",
   "execution_count": 103,
   "id": "85ecbb12",
   "metadata": {},
   "outputs": [
    {
     "name": "stdout",
     "output_type": "stream",
     "text": [
      "<bound method DataFrame.info of             DATE  PRCP  TMAX  TMIN  RAIN\n",
      "0     1948-01-01  0.47    51    42   1.0\n",
      "1     1948-01-02  0.59    45    36   1.0\n",
      "2     1948-01-03  0.42    45    35   1.0\n",
      "3     1948-01-04  0.31    45    34   1.0\n",
      "4     1948-01-05  0.17    45    32   1.0\n",
      "...          ...   ...   ...   ...   ...\n",
      "25546 2017-12-10  0.00    49    34   0.0\n",
      "25547 2017-12-11  0.00    49    29   0.0\n",
      "25548 2017-12-12  0.00    46    32   0.0\n",
      "25549 2017-12-13  0.00    48    34   0.0\n",
      "25550 2017-12-14  0.00    50    36   0.0\n",
      "\n",
      "[25551 rows x 5 columns]>\n"
     ]
    }
   ],
   "source": [
    "df=pd.read_excel(DATASET)\n",
    "print(df.info)"
   ]
  },
  {
   "cell_type": "markdown",
   "id": "490608a0",
   "metadata": {},
   "source": [
    "Check what data types are each column..."
   ]
  },
  {
   "cell_type": "code",
   "execution_count": 104,
   "id": "cccac94a",
   "metadata": {},
   "outputs": [
    {
     "data": {
      "text/plain": [
       "DATE    datetime64[ns]\n",
       "PRCP           float64\n",
       "TMAX             int64\n",
       "TMIN             int64\n",
       "RAIN           float64\n",
       "dtype: object"
      ]
     },
     "execution_count": 104,
     "metadata": {},
     "output_type": "execute_result"
    }
   ],
   "source": [
    "df.dtypes"
   ]
  },
  {
   "cell_type": "markdown",
   "id": "a65b4ce3",
   "metadata": {},
   "source": [
    "We see DATE column is a datetime object which is exactly what we need. If it was a generic object, we would need to convert it\n",
    "via \n",
    "df=pd.to_datetime(df['DATE'])\n",
    "\n",
    "Neural Prophet only takes a datetime object type."
   ]
  },
  {
   "cell_type": "markdown",
   "id": "4f8f22a8",
   "metadata": {},
   "source": [
    "If we wanted to filter the entire dataset to a specific criterion, e.g. if we had multiple cities in the dataset and only wanted \n",
    "the Seattle info, we could do this (but in our cases, we only have Seattle in this dataset):\n",
    "    seattledf=df[df['CITY']=='Seattle']\n",
    "    \n",
    "   "
   ]
  },
  {
   "cell_type": "code",
   "execution_count": 105,
   "id": "b40e0460",
   "metadata": {
    "scrolled": true
   },
   "outputs": [
    {
     "data": {
      "text/plain": [
       "[<matplotlib.lines.Line2D at 0x1b5af5bad90>]"
      ]
     },
     "execution_count": 105,
     "metadata": {},
     "output_type": "execute_result"
    },
    {
     "data": {
      "image/png": "[encoded data removed]",
      "text/plain": [
       "<Figure size 432x288 with 1 Axes>"
      ]
     },
     "metadata": {
      "needs_background": "light"
     },
     "output_type": "display_data"
    }
   ],
   "source": [
    "plt.plot(df['DATE'], df['TMAX']) # x axis: DATE; y axis=TMAX (max temp)"
   ]
  },
  {
   "cell_type": "markdown",
   "id": "d1c8b3bc",
   "metadata": {},
   "source": [
    "Optionally, we can grab a portion of dataset (e.g. for 30 years: 1987-2017) only for max temps. To do this we leverage\n",
    "lambda() and extract year portion from the DATE col (since Year is NOT a separate col in the dataset) and then load into our\n",
    "df dataframe where only year < 1986 (till the end)."
   ]
  },
  {
   "cell_type": "code",
   "execution_count": 106,
   "id": "db4d9104",
   "metadata": {
    "scrolled": true
   },
   "outputs": [
    {
     "data": {
      "image/png": "[encoded data removed]",
      "text/plain": [
       "<Figure size 432x288 with 1 Axes>"
      ]
     },
     "metadata": {
      "needs_background": "light"
     },
     "output_type": "display_data"
    }
   ],
   "source": [
    "df['YR'] = df['DATE'].apply(lambda x: x.year) # grab only the year portion via lambda from DATE col.\n",
    "# The above line also stores the extracted year in a new column called 'YR'\n",
    "df = df[df['YR'] >=1967]\n",
    "plt.plot(df['DATE'], df['TMAX'])\n",
    "plt.show()\n",
    "# Now we see the max temp data for 50 years To-date (2017)."
   ]
  },
  {
   "cell_type": "code",
   "execution_count": 107,
   "id": "023a7685",
   "metadata": {
    "scrolled": true
   },
   "outputs": [
    {
     "data": {
      "text/html": [
       "<div>\n",
       "<style scoped>\n",
       "    .dataframe tbody tr th:only-of-type {\n",
       "        vertical-align: middle;\n",
       "    }\n",
       "\n",
       "    .dataframe tbody tr th {\n",
       "        vertical-align: top;\n",
       "    }\n",
       "\n",
       "    .dataframe thead th {\n",
       "        text-align: right;\n",
       "    }\n",
       "</style>\n",
       "<table border=\"1\" class=\"dataframe\">\n",
       "  <thead>\n",
       "    <tr style=\"text-align: right;\">\n",
       "      <th></th>\n",
       "      <th>DATE</th>\n",
       "      <th>PRCP</th>\n",
       "      <th>TMAX</th>\n",
       "      <th>TMIN</th>\n",
       "      <th>RAIN</th>\n",
       "      <th>YR</th>\n",
       "    </tr>\n",
       "  </thead>\n",
       "  <tbody>\n",
       "    <tr>\n",
       "      <th>6940</th>\n",
       "      <td>1967-01-01</td>\n",
       "      <td>0.00</td>\n",
       "      <td>46</td>\n",
       "      <td>36</td>\n",
       "      <td>0.0</td>\n",
       "      <td>1967</td>\n",
       "    </tr>\n",
       "    <tr>\n",
       "      <th>6941</th>\n",
       "      <td>1967-01-02</td>\n",
       "      <td>0.38</td>\n",
       "      <td>46</td>\n",
       "      <td>37</td>\n",
       "      <td>1.0</td>\n",
       "      <td>1967</td>\n",
       "    </tr>\n",
       "    <tr>\n",
       "      <th>6942</th>\n",
       "      <td>1967-01-03</td>\n",
       "      <td>0.14</td>\n",
       "      <td>46</td>\n",
       "      <td>41</td>\n",
       "      <td>1.0</td>\n",
       "      <td>1967</td>\n",
       "    </tr>\n",
       "    <tr>\n",
       "      <th>6943</th>\n",
       "      <td>1967-01-04</td>\n",
       "      <td>1.56</td>\n",
       "      <td>42</td>\n",
       "      <td>32</td>\n",
       "      <td>1.0</td>\n",
       "      <td>1967</td>\n",
       "    </tr>\n",
       "    <tr>\n",
       "      <th>6944</th>\n",
       "      <td>1967-01-05</td>\n",
       "      <td>0.00</td>\n",
       "      <td>37</td>\n",
       "      <td>32</td>\n",
       "      <td>0.0</td>\n",
       "      <td>1967</td>\n",
       "    </tr>\n",
       "  </tbody>\n",
       "</table>\n",
       "</div>"
      ],
      "text/plain": [
       "           DATE  PRCP  TMAX  TMIN  RAIN    YR\n",
       "6940 1967-01-01  0.00    46    36   0.0  1967\n",
       "6941 1967-01-02  0.38    46    37   1.0  1967\n",
       "6942 1967-01-03  0.14    46    41   1.0  1967\n",
       "6943 1967-01-04  1.56    42    32   1.0  1967\n",
       "6944 1967-01-05  0.00    37    32   0.0  1967"
      ]
     },
     "execution_count": 107,
     "metadata": {},
     "output_type": "execute_result"
    }
   ],
   "source": [
    "df.head() # print the first 5 rows of our df and we see 'YR' as a new column..."
   ]
  },
  {
   "cell_type": "code",
   "execution_count": 108,
   "id": "85be789b",
   "metadata": {
    "scrolled": false
   },
   "outputs": [
    {
     "data": {
      "text/html": [
       "<div>\n",
       "<style scoped>\n",
       "    .dataframe tbody tr th:only-of-type {\n",
       "        vertical-align: middle;\n",
       "    }\n",
       "\n",
       "    .dataframe tbody tr th {\n",
       "        vertical-align: top;\n",
       "    }\n",
       "\n",
       "    .dataframe thead th {\n",
       "        text-align: right;\n",
       "    }\n",
       "</style>\n",
       "<table border=\"1\" class=\"dataframe\">\n",
       "  <thead>\n",
       "    <tr style=\"text-align: right;\">\n",
       "      <th></th>\n",
       "      <th>DATE</th>\n",
       "      <th>PRCP</th>\n",
       "      <th>TMAX</th>\n",
       "      <th>TMIN</th>\n",
       "      <th>RAIN</th>\n",
       "      <th>YR</th>\n",
       "    </tr>\n",
       "  </thead>\n",
       "  <tbody>\n",
       "    <tr>\n",
       "      <th>25546</th>\n",
       "      <td>2017-12-10</td>\n",
       "      <td>0.0</td>\n",
       "      <td>49</td>\n",
       "      <td>34</td>\n",
       "      <td>0.0</td>\n",
       "      <td>2017</td>\n",
       "    </tr>\n",
       "    <tr>\n",
       "      <th>25547</th>\n",
       "      <td>2017-12-11</td>\n",
       "      <td>0.0</td>\n",
       "      <td>49</td>\n",
       "      <td>29</td>\n",
       "      <td>0.0</td>\n",
       "      <td>2017</td>\n",
       "    </tr>\n",
       "    <tr>\n",
       "      <th>25548</th>\n",
       "      <td>2017-12-12</td>\n",
       "      <td>0.0</td>\n",
       "      <td>46</td>\n",
       "      <td>32</td>\n",
       "      <td>0.0</td>\n",
       "      <td>2017</td>\n",
       "    </tr>\n",
       "    <tr>\n",
       "      <th>25549</th>\n",
       "      <td>2017-12-13</td>\n",
       "      <td>0.0</td>\n",
       "      <td>48</td>\n",
       "      <td>34</td>\n",
       "      <td>0.0</td>\n",
       "      <td>2017</td>\n",
       "    </tr>\n",
       "    <tr>\n",
       "      <th>25550</th>\n",
       "      <td>2017-12-14</td>\n",
       "      <td>0.0</td>\n",
       "      <td>50</td>\n",
       "      <td>36</td>\n",
       "      <td>0.0</td>\n",
       "      <td>2017</td>\n",
       "    </tr>\n",
       "  </tbody>\n",
       "</table>\n",
       "</div>"
      ],
      "text/plain": [
       "            DATE  PRCP  TMAX  TMIN  RAIN    YR\n",
       "25546 2017-12-10   0.0    49    34   0.0  2017\n",
       "25547 2017-12-11   0.0    49    29   0.0  2017\n",
       "25548 2017-12-12   0.0    46    32   0.0  2017\n",
       "25549 2017-12-13   0.0    48    34   0.0  2017\n",
       "25550 2017-12-14   0.0    50    36   0.0  2017"
      ]
     },
     "execution_count": 108,
     "metadata": {},
     "output_type": "execute_result"
    }
   ],
   "source": [
    "df.tail() # print the last 5 rows of our df and we see 'YR' as a new column..."
   ]
  },
  {
   "cell_type": "markdown",
   "id": "d0600555",
   "metadata": {},
   "source": [
    "Neural Prophet ONLY supports 2 columns and 2 columns only! The first column is ds (for dates) and the second is \n",
    "y (value that we want to predict...e.g. MAXTEMP)"
   ]
  },
  {
   "cell_type": "code",
   "execution_count": 109,
   "id": "9da9dc16",
   "metadata": {
    "scrolled": true
   },
   "outputs": [
    {
     "name": "stderr",
     "output_type": "stream",
     "text": [
      "WARNING - (py.warnings._showwarnmsg) - C:\\Users\\tanma\\AppData\\Local\\Temp\\ipykernel_908\\302547975.py:2: SettingWithCopyWarning: \n",
      "A value is trying to be set on a copy of a slice from a DataFrame\n",
      "\n",
      "See the caveats in the documentation: https://pandas.pydata.org/pandas-docs/stable/user_guide/indexing.html#returning-a-view-versus-a-copy\n",
      "  df2.dropna(inplace=True) # drop any missing rows of data from the df2 in place\n",
      "\n"
     ]
    },
    {
     "data": {
      "text/html": [
       "<div>\n",
       "<style scoped>\n",
       "    .dataframe tbody tr th:only-of-type {\n",
       "        vertical-align: middle;\n",
       "    }\n",
       "\n",
       "    .dataframe tbody tr th {\n",
       "        vertical-align: top;\n",
       "    }\n",
       "\n",
       "    .dataframe thead th {\n",
       "        text-align: right;\n",
       "    }\n",
       "</style>\n",
       "<table border=\"1\" class=\"dataframe\">\n",
       "  <thead>\n",
       "    <tr style=\"text-align: right;\">\n",
       "      <th></th>\n",
       "      <th>ds</th>\n",
       "      <th>y</th>\n",
       "    </tr>\n",
       "  </thead>\n",
       "  <tbody>\n",
       "    <tr>\n",
       "      <th>6940</th>\n",
       "      <td>1967-01-01</td>\n",
       "      <td>46</td>\n",
       "    </tr>\n",
       "    <tr>\n",
       "      <th>6941</th>\n",
       "      <td>1967-01-02</td>\n",
       "      <td>46</td>\n",
       "    </tr>\n",
       "    <tr>\n",
       "      <th>6942</th>\n",
       "      <td>1967-01-03</td>\n",
       "      <td>46</td>\n",
       "    </tr>\n",
       "    <tr>\n",
       "      <th>6943</th>\n",
       "      <td>1967-01-04</td>\n",
       "      <td>42</td>\n",
       "    </tr>\n",
       "    <tr>\n",
       "      <th>6944</th>\n",
       "      <td>1967-01-05</td>\n",
       "      <td>37</td>\n",
       "    </tr>\n",
       "  </tbody>\n",
       "</table>\n",
       "</div>"
      ],
      "text/plain": [
       "             ds   y\n",
       "6940 1967-01-01  46\n",
       "6941 1967-01-02  46\n",
       "6942 1967-01-03  46\n",
       "6943 1967-01-04  42\n",
       "6944 1967-01-05  37"
      ]
     },
     "execution_count": 109,
     "metadata": {},
     "output_type": "execute_result"
    }
   ],
   "source": [
    "df2 = df[['DATE', 'TMAX']] # copy the two necessary cols from df to a new df2 dataframe\n",
    "df2.dropna(inplace=True) # drop any missing rows of data from the df2 in place\n",
    "df2.columns = ['ds', 'y'] # Now rename the two columns to ds and y as Prophet requires\n",
    "df2.head() # print(df2.head())"
   ]
  },
  {
   "cell_type": "code",
   "execution_count": 110,
   "id": "b851e631",
   "metadata": {
    "scrolled": false
   },
   "outputs": [
    {
     "name": "stderr",
     "output_type": "stream",
     "text": [
      "INFO - (NP.df_utils._infer_frequency) - Major frequency D corresponds to 99.995% of the data.\n",
      "INFO - (NP.df_utils._infer_frequency) - Defined frequency is equal to major frequency - D\n",
      "INFO - (NP.config.init_data_params) - Setting normalization to global as only one dataframe provided for training.\n",
      "INFO - (NP.utils.set_auto_seasonalities) - Disabling daily seasonality. Run NeuralProphet with daily_seasonality=True to override this.\n",
      "INFO - (NP.config.set_auto_batch_epoch) - Auto-set batch_size to 64\n",
      "INFO - (NP.config.set_auto_batch_epoch) - Auto-set epochs to 88\n"
     ]
    },
    {
     "data": {
      "application/vnd.jupyter.widget-view+json": {
       "model_id": "a3b5ae6329024e0dbeabd40a0838265e",
       "version_major": 2,
       "version_minor": 0
      },
      "text/plain": [
       "  0%|          | 0/156 [00:00<?, ?it/s]"
      ]
     },
     "metadata": {},
     "output_type": "display_data"
    },
    {
     "name": "stderr",
     "output_type": "stream",
     "text": [
      "INFO - (NP.utils_torch.lr_range_test) - lr-range-test results: steep: 7.32E-02, min: 3.09E+00\n"
     ]
    },
    {
     "data": {
      "application/vnd.jupyter.widget-view+json": {
       "model_id": "ba5fd8ab44a64e1187bd19fcea1bd5b6",
       "version_major": 2,
       "version_minor": 0
      },
      "text/plain": [
       "  0%|          | 0/156 [00:00<?, ?it/s]"
      ]
     },
     "metadata": {},
     "output_type": "display_data"
    },
    {
     "name": "stderr",
     "output_type": "stream",
     "text": [
      "INFO - (NP.utils_torch.lr_range_test) - lr-range-test results: steep: 7.32E-02, min: 2.71E+00\n",
      "INFO - (NP.forecaster._init_train_loader) - lr-range-test selected learning rate: 8.12E-02\n",
      "Epoch[88/88]: 100%|██████████| 88/88 [00:54<00:00,  1.63it/s, SmoothL1Loss=0.00502, MAE=5.1, RMSE=6.47, RegLoss=0] \n"
     ]
    },
    {
     "data": {
      "text/html": [
       "<div>\n",
       "<style scoped>\n",
       "    .dataframe tbody tr th:only-of-type {\n",
       "        vertical-align: middle;\n",
       "    }\n",
       "\n",
       "    .dataframe tbody tr th {\n",
       "        vertical-align: top;\n",
       "    }\n",
       "\n",
       "    .dataframe thead th {\n",
       "        text-align: right;\n",
       "    }\n",
       "</style>\n",
       "<table border=\"1\" class=\"dataframe\">\n",
       "  <thead>\n",
       "    <tr style=\"text-align: right;\">\n",
       "      <th></th>\n",
       "      <th>SmoothL1Loss</th>\n",
       "      <th>MAE</th>\n",
       "      <th>RMSE</th>\n",
       "      <th>RegLoss</th>\n",
       "    </tr>\n",
       "  </thead>\n",
       "  <tbody>\n",
       "    <tr>\n",
       "      <th>0</th>\n",
       "      <td>0.796217</td>\n",
       "      <td>79.095326</td>\n",
       "      <td>95.904835</td>\n",
       "      <td>0.0</td>\n",
       "    </tr>\n",
       "    <tr>\n",
       "      <th>1</th>\n",
       "      <td>0.242145</td>\n",
       "      <td>36.023666</td>\n",
       "      <td>44.845162</td>\n",
       "      <td>0.0</td>\n",
       "    </tr>\n",
       "    <tr>\n",
       "      <th>2</th>\n",
       "      <td>0.012243</td>\n",
       "      <td>7.672404</td>\n",
       "      <td>9.633498</td>\n",
       "      <td>0.0</td>\n",
       "    </tr>\n",
       "    <tr>\n",
       "      <th>3</th>\n",
       "      <td>0.005636</td>\n",
       "      <td>5.396200</td>\n",
       "      <td>6.867757</td>\n",
       "      <td>0.0</td>\n",
       "    </tr>\n",
       "    <tr>\n",
       "      <th>4</th>\n",
       "      <td>0.005518</td>\n",
       "      <td>5.341831</td>\n",
       "      <td>6.793627</td>\n",
       "      <td>0.0</td>\n",
       "    </tr>\n",
       "    <tr>\n",
       "      <th>...</th>\n",
       "      <td>...</td>\n",
       "      <td>...</td>\n",
       "      <td>...</td>\n",
       "      <td>...</td>\n",
       "    </tr>\n",
       "    <tr>\n",
       "      <th>83</th>\n",
       "      <td>0.005068</td>\n",
       "      <td>5.126747</td>\n",
       "      <td>6.508334</td>\n",
       "      <td>0.0</td>\n",
       "    </tr>\n",
       "    <tr>\n",
       "      <th>84</th>\n",
       "      <td>0.005051</td>\n",
       "      <td>5.120006</td>\n",
       "      <td>6.497101</td>\n",
       "      <td>0.0</td>\n",
       "    </tr>\n",
       "    <tr>\n",
       "      <th>85</th>\n",
       "      <td>0.005033</td>\n",
       "      <td>5.113404</td>\n",
       "      <td>6.489418</td>\n",
       "      <td>0.0</td>\n",
       "    </tr>\n",
       "    <tr>\n",
       "      <th>86</th>\n",
       "      <td>0.005024</td>\n",
       "      <td>5.110636</td>\n",
       "      <td>6.484238</td>\n",
       "      <td>0.0</td>\n",
       "    </tr>\n",
       "    <tr>\n",
       "      <th>87</th>\n",
       "      <td>0.005016</td>\n",
       "      <td>5.104607</td>\n",
       "      <td>6.474157</td>\n",
       "      <td>0.0</td>\n",
       "    </tr>\n",
       "  </tbody>\n",
       "</table>\n",
       "<p>88 rows × 4 columns</p>\n",
       "</div>"
      ],
      "text/plain": [
       "    SmoothL1Loss        MAE       RMSE  RegLoss\n",
       "0       0.796217  79.095326  95.904835      0.0\n",
       "1       0.242145  36.023666  44.845162      0.0\n",
       "2       0.012243   7.672404   9.633498      0.0\n",
       "3       0.005636   5.396200   6.867757      0.0\n",
       "4       0.005518   5.341831   6.793627      0.0\n",
       "..           ...        ...        ...      ...\n",
       "83      0.005068   5.126747   6.508334      0.0\n",
       "84      0.005051   5.120006   6.497101      0.0\n",
       "85      0.005033   5.113404   6.489418      0.0\n",
       "86      0.005024   5.110636   6.484238      0.0\n",
       "87      0.005016   5.104607   6.474157      0.0\n",
       "\n",
       "[88 rows x 4 columns]"
      ]
     },
     "execution_count": 110,
     "metadata": {},
     "output_type": "execute_result"
    }
   ],
   "source": [
    "#Next, we need to train the Neural Prophet model...\n",
    "model = NeuralProphet() # create a model\n",
    "model.fit(df2, freq='D') # train the model by fit()\n",
    "# 'D' means use daily data from dataset as our data is daily in the dataset\n",
    "\n"
   ]
  },
  {
   "cell_type": "markdown",
   "id": "991f3be8",
   "metadata": {},
   "source": [
    "MAE: Mean Absolute Error is 5.1 or 5.1 points of error (+/-)."
   ]
  },
  {
   "cell_type": "code",
   "execution_count": 119,
   "id": "a996a776",
   "metadata": {},
   "outputs": [],
   "source": [
    "# Next it's time to predict..."
   ]
  },
  {
   "cell_type": "code",
   "execution_count": 112,
   "id": "4f3184c8",
   "metadata": {
    "scrolled": false
   },
   "outputs": [
    {
     "name": "stderr",
     "output_type": "stream",
     "text": [
      "INFO - (NP.df_utils._infer_frequency) - Major frequency D corresponds to 99.995% of the data.\n",
      "INFO - (NP.df_utils._infer_frequency) - Defined frequency is equal to major frequency - D\n"
     ]
    }
   ],
   "source": [
    "future = model.make_future_dataframe(df2, periods=180) \n",
    "# periods specifies how many periods we're predicting, e.g. n days since our freq='D' (daily)\n",
    "# 180 periods == 6 months daily forecast"
   ]
  },
  {
   "cell_type": "code",
   "execution_count": 113,
   "id": "9d95ddba",
   "metadata": {
    "scrolled": false
   },
   "outputs": [
    {
     "name": "stderr",
     "output_type": "stream",
     "text": [
      "INFO - (NP.df_utils._infer_frequency) - Major frequency D corresponds to 99.444% of the data.\n",
      "INFO - (NP.df_utils._infer_frequency) - Defined frequency is equal to major frequency - D\n",
      "INFO - (NP.df_utils._infer_frequency) - Major frequency D corresponds to 99.444% of the data.\n",
      "INFO - (NP.df_utils._infer_frequency) - Defined frequency is equal to major frequency - D\n",
      "WARNING - (py.warnings._showwarnmsg) - C:\\ProgramData\\Anaconda3\\lib\\site-packages\\neuralprophet\\forecaster.py:1406: FutureWarning: The frame.append method is deprecated and will be removed from pandas in a future version. Use pandas.concat instead.\n",
      "  df = df.append(df_end_to_append)\n",
      "\n"
     ]
    },
    {
     "data": {
      "text/html": [
       "<div>\n",
       "<style scoped>\n",
       "    .dataframe tbody tr th:only-of-type {\n",
       "        vertical-align: middle;\n",
       "    }\n",
       "\n",
       "    .dataframe tbody tr th {\n",
       "        vertical-align: top;\n",
       "    }\n",
       "\n",
       "    .dataframe thead th {\n",
       "        text-align: right;\n",
       "    }\n",
       "</style>\n",
       "<table border=\"1\" class=\"dataframe\">\n",
       "  <thead>\n",
       "    <tr style=\"text-align: right;\">\n",
       "      <th></th>\n",
       "      <th>ds</th>\n",
       "      <th>y</th>\n",
       "      <th>yhat1</th>\n",
       "      <th>residual1</th>\n",
       "      <th>trend</th>\n",
       "      <th>season_yearly</th>\n",
       "      <th>season_weekly</th>\n",
       "    </tr>\n",
       "  </thead>\n",
       "  <tbody>\n",
       "    <tr>\n",
       "      <th>0</th>\n",
       "      <td>2017-12-15</td>\n",
       "      <td>None</td>\n",
       "      <td>47.900372</td>\n",
       "      <td>NaN</td>\n",
       "      <td>62.851109</td>\n",
       "      <td>-14.978199</td>\n",
       "      <td>0.027464</td>\n",
       "    </tr>\n",
       "    <tr>\n",
       "      <th>1</th>\n",
       "      <td>2017-12-16</td>\n",
       "      <td>None</td>\n",
       "      <td>47.795742</td>\n",
       "      <td>NaN</td>\n",
       "      <td>62.852337</td>\n",
       "      <td>-15.062304</td>\n",
       "      <td>0.005711</td>\n",
       "    </tr>\n",
       "    <tr>\n",
       "      <th>2</th>\n",
       "      <td>2017-12-17</td>\n",
       "      <td>None</td>\n",
       "      <td>47.743828</td>\n",
       "      <td>NaN</td>\n",
       "      <td>62.853565</td>\n",
       "      <td>-15.136890</td>\n",
       "      <td>0.027155</td>\n",
       "    </tr>\n",
       "    <tr>\n",
       "      <th>3</th>\n",
       "      <td>2017-12-18</td>\n",
       "      <td>None</td>\n",
       "      <td>47.779846</td>\n",
       "      <td>NaN</td>\n",
       "      <td>62.854794</td>\n",
       "      <td>-15.201892</td>\n",
       "      <td>0.126947</td>\n",
       "    </tr>\n",
       "    <tr>\n",
       "      <th>4</th>\n",
       "      <td>2017-12-19</td>\n",
       "      <td>None</td>\n",
       "      <td>47.537636</td>\n",
       "      <td>NaN</td>\n",
       "      <td>62.856022</td>\n",
       "      <td>-15.257277</td>\n",
       "      <td>-0.061108</td>\n",
       "    </tr>\n",
       "  </tbody>\n",
       "</table>\n",
       "</div>"
      ],
      "text/plain": [
       "          ds     y      yhat1 residual1      trend  season_yearly  \\\n",
       "0 2017-12-15  None  47.900372       NaN  62.851109     -14.978199   \n",
       "1 2017-12-16  None  47.795742       NaN  62.852337     -15.062304   \n",
       "2 2017-12-17  None  47.743828       NaN  62.853565     -15.136890   \n",
       "3 2017-12-18  None  47.779846       NaN  62.854794     -15.201892   \n",
       "4 2017-12-19  None  47.537636       NaN  62.856022     -15.257277   \n",
       "\n",
       "   season_weekly  \n",
       "0       0.027464  \n",
       "1       0.005711  \n",
       "2       0.027155  \n",
       "3       0.126947  \n",
       "4      -0.061108  "
      ]
     },
     "execution_count": 113,
     "metadata": {},
     "output_type": "execute_result"
    }
   ],
   "source": [
    "forecast = model.predict(future)\n",
    "forecast.head() # print the first 5 days or predicted temps"
   ]
  },
  {
   "cell_type": "markdown",
   "id": "2dba0119",
   "metadata": {},
   "source": [
    "NOTE: yhat1 (\"y-hat one\") column contains the forecast temperatures!"
   ]
  },
  {
   "cell_type": "code",
   "execution_count": 114,
   "id": "31c14b81",
   "metadata": {
    "scrolled": true
   },
   "outputs": [
    {
     "data": {
      "text/html": [
       "<div>\n",
       "<style scoped>\n",
       "    .dataframe tbody tr th:only-of-type {\n",
       "        vertical-align: middle;\n",
       "    }\n",
       "\n",
       "    .dataframe tbody tr th {\n",
       "        vertical-align: top;\n",
       "    }\n",
       "\n",
       "    .dataframe thead th {\n",
       "        text-align: right;\n",
       "    }\n",
       "</style>\n",
       "<table border=\"1\" class=\"dataframe\">\n",
       "  <thead>\n",
       "    <tr style=\"text-align: right;\">\n",
       "      <th></th>\n",
       "      <th>ds</th>\n",
       "      <th>y</th>\n",
       "      <th>yhat1</th>\n",
       "      <th>residual1</th>\n",
       "      <th>trend</th>\n",
       "      <th>season_yearly</th>\n",
       "      <th>season_weekly</th>\n",
       "    </tr>\n",
       "  </thead>\n",
       "  <tbody>\n",
       "    <tr>\n",
       "      <th>175</th>\n",
       "      <td>2018-06-08</td>\n",
       "      <td>None</td>\n",
       "      <td>71.573181</td>\n",
       "      <td>NaN</td>\n",
       "      <td>63.066208</td>\n",
       "      <td>8.479513</td>\n",
       "      <td>0.027464</td>\n",
       "    </tr>\n",
       "    <tr>\n",
       "      <th>176</th>\n",
       "      <td>2018-06-09</td>\n",
       "      <td>None</td>\n",
       "      <td>71.706787</td>\n",
       "      <td>NaN</td>\n",
       "      <td>63.067440</td>\n",
       "      <td>8.633631</td>\n",
       "      <td>0.005711</td>\n",
       "    </tr>\n",
       "    <tr>\n",
       "      <th>177</th>\n",
       "      <td>2018-06-10</td>\n",
       "      <td>None</td>\n",
       "      <td>71.887070</td>\n",
       "      <td>NaN</td>\n",
       "      <td>63.068672</td>\n",
       "      <td>8.791238</td>\n",
       "      <td>0.027155</td>\n",
       "    </tr>\n",
       "    <tr>\n",
       "      <th>178</th>\n",
       "      <td>2018-06-11</td>\n",
       "      <td>None</td>\n",
       "      <td>72.149551</td>\n",
       "      <td>NaN</td>\n",
       "      <td>63.069901</td>\n",
       "      <td>8.952700</td>\n",
       "      <td>0.126947</td>\n",
       "    </tr>\n",
       "    <tr>\n",
       "      <th>179</th>\n",
       "      <td>2018-06-12</td>\n",
       "      <td>None</td>\n",
       "      <td>72.128357</td>\n",
       "      <td>NaN</td>\n",
       "      <td>63.071129</td>\n",
       "      <td>9.118334</td>\n",
       "      <td>-0.061108</td>\n",
       "    </tr>\n",
       "  </tbody>\n",
       "</table>\n",
       "</div>"
      ],
      "text/plain": [
       "            ds     y      yhat1 residual1      trend  season_yearly  \\\n",
       "175 2018-06-08  None  71.573181       NaN  63.066208       8.479513   \n",
       "176 2018-06-09  None  71.706787       NaN  63.067440       8.633631   \n",
       "177 2018-06-10  None  71.887070       NaN  63.068672       8.791238   \n",
       "178 2018-06-11  None  72.149551       NaN  63.069901       8.952700   \n",
       "179 2018-06-12  None  72.128357       NaN  63.071129       9.118334   \n",
       "\n",
       "     season_weekly  \n",
       "175       0.027464  \n",
       "176       0.005711  \n",
       "177       0.027155  \n",
       "178       0.126947  \n",
       "179      -0.061108  "
      ]
     },
     "execution_count": 114,
     "metadata": {},
     "output_type": "execute_result"
    }
   ],
   "source": [
    "forecast.tail() # print the last 5 days or predicted temps"
   ]
  },
  {
   "cell_type": "markdown",
   "id": "3a83a1c1",
   "metadata": {},
   "source": [
    "To see only the ds (date) and yhat (predicted TMAX temp) columns, just filter the print() as below:"
   ]
  },
  {
   "cell_type": "markdown",
   "id": "9ea903fe",
   "metadata": {},
   "source": [
    "forecast[['ds', 'yhat1']] but don't do this before plotting or it may generate keyerror in plotting!"
   ]
  },
  {
   "cell_type": "markdown",
   "id": "c641ee6e",
   "metadata": {},
   "source": [
    "We can plot the forecast temp values (in y axis and dates in x axis)..."
   ]
  },
  {
   "cell_type": "code",
   "execution_count": 115,
   "id": "f6022e8e",
   "metadata": {
    "scrolled": false
   },
   "outputs": [
    {
     "data": {
      "image/png": "[encoded data removed]",
      "text/plain": [
       "<Figure size 720x432 with 1 Axes>"
      ]
     },
     "metadata": {},
     "output_type": "display_data"
    }
   ],
   "source": [
    "plot1 = model.plot(forecast)"
   ]
  },
  {
   "cell_type": "markdown",
   "id": "e3fefe5a",
   "metadata": {},
   "source": [
    "The predicted data can also be shown like a visualization broken down by different components\n",
    "such as overl trend, seasonality by year and week easily by:\n",
    "    model.plot_components()"
   ]
  },
  {
   "cell_type": "code",
   "execution_count": 117,
   "id": "8f1a87f8",
   "metadata": {
    "scrolled": false
   },
   "outputs": [
    {
     "data": {
      "image/png": "[encoded data removed]",
      "text/plain": [
       "<Figure size 720x648 with 3 Axes>"
      ]
     },
     "metadata": {},
     "output_type": "display_data"
    }
   ],
   "source": [
    "plot2 = model.plot_components(forecast)"
   ]
  },
  {
   "cell_type": "markdown",
   "id": "369c9ebc",
   "metadata": {},
   "source": [
    "NOTE: the y-axis in Trend chart shows the max temp, but in the Seasonality charts above y-axis is showing difference/fluctuations\n",
    "    of temps."
   ]
  },
  {
   "cell_type": "markdown",
   "id": "7c724ef1",
   "metadata": {},
   "source": [
    "OPTIONAL: To save this model to a file (persist), we use pickle library.."
   ]
  },
  {
   "cell_type": "code",
   "execution_count": 118,
   "id": "d8e601bc",
   "metadata": {},
   "outputs": [],
   "source": [
    "with open('WeatherPredictionNPSaved.pkl', \"wb\") as f:\n",
    "          pickle.dump(model, f)\n",
    "        \n",
    "# The output binary file will be created and written as binary in the current directory of this notebook...\n",
    "# To access it, File->Open (which opens http://localhost:8888/tree) and we'll see the WeatherPredictionNPSaved.pkl\n",
    "# file there."
   ]
  },
  {
   "cell_type": "markdown",
   "id": "e7b8c820",
   "metadata": {},
   "source": [
    "To load the model in the future, use the following snippet:\n",
    "\n",
    "    with open('WeatherPredictionNPSaved.pkl', \"rb\") as f:\n",
    "        model = pickle.load(f)\n",
    "\n",
    "Then after loading a saved model, we can predict for another timeframe by running the following code block:\n",
    "And change the periods for example:\n",
    "\n",
    "future = model.make_future_dataframe(df2, periods=100) # 100 days ahead for example\n",
    "forecast = model.predict(future)\n",
    "forecast.head()\n",
    "\n",
    "Then we can replot the new results by:\n",
    "plot1 = model.plot(forecast)"
   ]
  },
  {
   "cell_type": "code",
   "execution_count": null,
   "id": "f0b111c2",
   "metadata": {},
   "outputs": [],
   "source": []
  }
 ],
 "metadata": {
  "kernelspec": {
   "display_name": "Python 3 (ipykernel)",
   "language": "python",
   "name": "python3"
  },
  "language_info": {
   "codemirror_mode": {
    "name": "ipython",
    "version": 3
   },
   "file_extension": ".py",
   "mimetype": "text/x-python",
   "name": "python",
   "nbconvert_exporter": "python",
   "pygments_lexer": "ipython3",
   "version": "3.9.12"
  }
 },
 "nbformat": 4,
 "nbformat_minor": 5
}
